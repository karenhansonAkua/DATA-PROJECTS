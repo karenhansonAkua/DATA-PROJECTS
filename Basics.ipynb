{
 "cells": [
  {
   "cell_type": "markdown",
   "id": "bbbd9989-4caf-4455-a3aa-ceda2efadcd3",
   "metadata": {},
   "source": [
    "# BASIC PYTHON CODE PRACTISE.\n",
    "## BEGINNERS LESSON.\n",
    "## HELLO WORLD"
   ]
  },
  {
   "cell_type": "code",
   "execution_count": 1,
   "id": "40e2583d-a4d6-4ba5-87d3-e517e4769f9d",
   "metadata": {
    "tags": []
   },
   "outputs": [
    {
     "name": "stdout",
     "output_type": "stream",
     "text": [
      "HELLO WORLD\n",
      "hello world\n"
     ]
    }
   ],
   "source": [
    "print(\"HELLO WORLD\") # used when strinng has a single inverted comma.\n",
    "\n",
    "print('hello world')"
   ]
  },
  {
   "cell_type": "markdown",
   "id": "ada03d77-c6a5-4edb-b4e6-86d2ed73e883",
   "metadata": {},
   "source": [
    "## DATATYPES AND OPERATIONS."
   ]
  },
  {
   "cell_type": "code",
   "execution_count": 2,
   "id": "d92a2e0f-edfd-42e0-b626-b3af832e508c",
   "metadata": {
    "tags": []
   },
   "outputs": [
    {
     "name": "stdout",
     "output_type": "stream",
     "text": [
      "4.5\n"
     ]
    },
    {
     "data": {
      "text/plain": [
       "float"
      ]
     },
     "execution_count": 2,
     "metadata": {},
     "output_type": "execute_result"
    }
   ],
   "source": [
    "a=1\n",
    "b=3.5\n",
    "c=a+b\n",
    "print(c)\n",
    "type(c)"
   ]
  },
  {
   "cell_type": "markdown",
   "id": "465d94be-bc0f-4e94-91ec-8fb8a2b17f03",
   "metadata": {},
   "source": [
    "## variables"
   ]
  },
  {
   "cell_type": "code",
   "execution_count": 11,
   "id": "aab29c7b-5350-49e5-a801-6269ab49dd88",
   "metadata": {
    "tags": []
   },
   "outputs": [
    {
     "name": "stdout",
     "output_type": "stream",
     "text": [
      "Kira is a female who is 20 years old.\n",
      "Kira is a female who is 20 of age and is deemed to be smart: True\n"
     ]
    }
   ],
   "source": [
    "age = 20\n",
    "gender = \"female\"\n",
    "name = \"Kira\"\n",
    "smart = True\n",
    "print(name + \" is a \" + gender + \" who is \" + str(age) +  \" years old.\")\n",
    "print(f\"{name} is a {gender} who is {age} of age and is deemed to be smart: {smart}\")"
   ]
  },
  {
   "cell_type": "code",
   "execution_count": 14,
   "id": "ab5b0d61-cc60-43be-8b31-ca1f54e7c895",
   "metadata": {
    "tags": []
   },
   "outputs": [
    {
     "data": {
      "text/plain": [
       "81"
      ]
     },
     "execution_count": 14,
     "metadata": {},
     "output_type": "execute_result"
    }
   ],
   "source": [
    "3**4\n",
    "pow(3,4)"
   ]
  },
  {
   "cell_type": "markdown",
   "id": "4346fb7e-1028-41e1-a2e7-4ca967c55832",
   "metadata": {},
   "source": [
    "## Functions"
   ]
  },
  {
   "cell_type": "code",
   "execution_count": 16,
   "id": "57216226-be2e-434d-905f-504237408bfa",
   "metadata": {
    "tags": []
   },
   "outputs": [
    {
     "data": {
      "text/plain": [
       "39"
      ]
     },
     "execution_count": 16,
     "metadata": {},
     "output_type": "execute_result"
    }
   ],
   "source": [
    "def myFunction(x):\n",
    "    #return pow(x,2) + 3\n",
    "    return (x**2) + 3\n",
    "myFunction(6)"
   ]
  },
  {
   "cell_type": "code",
   "execution_count": 22,
   "id": "c89ab8e4-b275-4803-b94d-20bd6ee595a3",
   "metadata": {
    "tags": []
   },
   "outputs": [
    {
     "data": {
      "text/plain": [
       "17.5"
      ]
     },
     "execution_count": 22,
     "metadata": {},
     "output_type": "execute_result"
    }
   ],
   "source": [
    "#local variable\n",
    "def secFunction():\n",
    "    x = 2\n",
    "    y = 3\n",
    "    results = pow(x,2) + pow(y,3) ** 1/2\n",
    "    return results\n",
    "secFunction()\n"
   ]
  },
  {
   "cell_type": "code",
   "execution_count": 23,
   "id": "cd08d78d-80fd-4154-a1a7-b22680eab3d5",
   "metadata": {
    "tags": []
   },
   "outputs": [
    {
     "data": {
      "text/plain": [
       "3.605551275463989"
      ]
     },
     "execution_count": 23,
     "metadata": {},
     "output_type": "execute_result"
    }
   ],
   "source": [
    "#global variable\n",
    "b = 2\n",
    "c = 3\n",
    "a = ((b**2) + (c**2)) ** 0.5\n",
    "def thirdFunction():\n",
    "    return a\n",
    "thirdFunction()"
   ]
  },
  {
   "cell_type": "markdown",
   "id": "51efe982-5841-4c23-88f8-688522a678cb",
   "metadata": {},
   "source": [
    "## list comprehension"
   ]
  },
  {
   "cell_type": "code",
   "execution_count": 27,
   "id": "32fdade6-281c-4562-bf91-2dda8dcf9798",
   "metadata": {
    "tags": []
   },
   "outputs": [
    {
     "name": "stdout",
     "output_type": "stream",
     "text": [
      "<class 'list'>\n",
      "<class 'str'>\n",
      "['the', 'quick', 'brown', 'fox', 'jumps', 'over', 'the', 'lazy', 'dog']\n"
     ]
    }
   ],
   "source": [
    "sentence = \"the quick brown fox jumps over the lazy dog\"\n",
    "\n",
    "words = sentence.split()\n",
    "print(type(words))\n",
    "print(type(sentence))\n",
    "print(words)"
   ]
  },
  {
   "cell_type": "code",
   "execution_count": 29,
   "id": "8386850c-4fa2-4147-8bb8-4ae88cafc152",
   "metadata": {
    "tags": []
   },
   "outputs": [
    {
     "name": "stdout",
     "output_type": "stream",
     "text": [
      "['the', 'quick', 'brown', 'fox', 'jumps', 'over', 'the', 'lazy', 'dog']\n",
      "[3, 5, 5, 3, 5, 4, 3, 4, 3]\n"
     ]
    }
   ],
   "source": [
    "sentence = \"the quick brown fox jumps over the lazy dog\"\n",
    "words = sentence.split()\n",
    "lengths = [len(i) for i in words]\n",
    "print(words)\n",
    "print(lengths)"
   ]
  },
  {
   "cell_type": "markdown",
   "id": "31cfeb19-b774-4ebf-8e3c-5c5e51607a08",
   "metadata": {},
   "source": [
    "## LIST"
   ]
  },
  {
   "cell_type": "code",
   "execution_count": 2,
   "id": "9a715cc2-2496-418b-bcc6-889bf36cdaac",
   "metadata": {
    "tags": []
   },
   "outputs": [
    {
     "data": {
      "text/plain": [
       "list"
      ]
     },
     "execution_count": 2,
     "metadata": {},
     "output_type": "execute_result"
    }
   ],
   "source": [
    "CE2 = [[1,2,3],[4,5,6]]\n",
    "\n",
    "type(CE2)"
   ]
  },
  {
   "cell_type": "code",
   "execution_count": null,
   "id": "355645c1-853a-4922-9c78-801524daa75a",
   "metadata": {},
   "outputs": [],
   "source": []
  }
 ],
 "metadata": {
  "kernelspec": {
   "display_name": "Python 3 (ipykernel)",
   "language": "python",
   "name": "python3"
  },
  "language_info": {
   "codemirror_mode": {
    "name": "ipython",
    "version": 3
   },
   "file_extension": ".py",
   "mimetype": "text/x-python",
   "name": "python",
   "nbconvert_exporter": "python",
   "pygments_lexer": "ipython3",
   "version": "3.11.5"
  }
 },
 "nbformat": 4,
 "nbformat_minor": 5
}
